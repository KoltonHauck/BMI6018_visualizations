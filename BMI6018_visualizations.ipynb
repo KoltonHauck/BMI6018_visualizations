{
 "cells": [
  {
   "cell_type": "markdown",
   "id": "6cf655fc",
   "metadata": {},
   "source": [
    "## Imports and load data"
   ]
  },
  {
   "cell_type": "code",
   "execution_count": 1,
   "id": "a37af9f4",
   "metadata": {},
   "outputs": [],
   "source": [
    "import pandas as pd\n",
    "import seaborn as sns\n",
    "import matplotlib.pyplot as plt\n",
    "import numpy as np\n",
    "%matplotlib inline"
   ]
  },
  {
   "cell_type": "code",
   "execution_count": 2,
   "id": "920220f0",
   "metadata": {},
   "outputs": [],
   "source": [
    "df = pd.read_csv('breast-cancer.data', header=None)\n",
    "df.columns = ['class', 'age', 'menopause', 'tumor-size', 'inv-nodes', 'node-caps', 'deg-malig', 'breast', 'breast-quad', 'irradiat']"
   ]
  },
  {
   "cell_type": "code",
   "execution_count": 3,
   "id": "3fa264ba",
   "metadata": {},
   "outputs": [
    {
     "name": "stdout",
     "output_type": "stream",
     "text": [
      "class :  ['no-recurrence-events' 'recurrence-events']\n",
      "age :  ['30-39' '40-49' '60-69' '50-59' '70-79' '20-29']\n",
      "menopause :  ['premeno' 'ge40' 'lt40']\n",
      "tumor-size :  ['30-34' '20-24' '15-19' '0-4' '25-29' '50-54' '10-14' '40-44' '35-39'\n",
      " '5-9' '45-49']\n",
      "inv-nodes :  ['0-2' '6-8' '9-11' '3-5' '15-17' '12-14' '24-26']\n",
      "node-caps :  ['no' 'yes' '?']\n",
      "deg-malig :  [3 2 1]\n",
      "breast :  ['left' 'right']\n",
      "breast-quad :  ['left_low' 'right_up' 'left_up' 'right_low' 'central' '?']\n",
      "irradiat :  ['no' 'yes']\n"
     ]
    }
   ],
   "source": [
    "#look at unique items in all columns\n",
    "for col in df:\n",
    "    print(col, ': ', df[col].unique())"
   ]
  },
  {
   "cell_type": "markdown",
   "id": "6c8a91ef",
   "metadata": {},
   "source": [
    "#### pie chart"
   ]
  },
  {
   "cell_type": "code",
   "execution_count": 4,
   "id": "68681dbc",
   "metadata": {},
   "outputs": [
    {
     "data": {
      "text/html": [
       "<div>\n",
       "<style scoped>\n",
       "    .dataframe tbody tr th:only-of-type {\n",
       "        vertical-align: middle;\n",
       "    }\n",
       "\n",
       "    .dataframe tbody tr th {\n",
       "        vertical-align: top;\n",
       "    }\n",
       "\n",
       "    .dataframe thead th {\n",
       "        text-align: right;\n",
       "    }\n",
       "</style>\n",
       "<table border=\"1\" class=\"dataframe\">\n",
       "  <thead>\n",
       "    <tr style=\"text-align: right;\">\n",
       "      <th></th>\n",
       "      <th>tumor-size</th>\n",
       "    </tr>\n",
       "  </thead>\n",
       "  <tbody>\n",
       "    <tr>\n",
       "      <th>30-34</th>\n",
       "      <td>60</td>\n",
       "    </tr>\n",
       "    <tr>\n",
       "      <th>25-29</th>\n",
       "      <td>54</td>\n",
       "    </tr>\n",
       "    <tr>\n",
       "      <th>20-24</th>\n",
       "      <td>50</td>\n",
       "    </tr>\n",
       "    <tr>\n",
       "      <th>15-19</th>\n",
       "      <td>30</td>\n",
       "    </tr>\n",
       "    <tr>\n",
       "      <th>10-14</th>\n",
       "      <td>28</td>\n",
       "    </tr>\n",
       "    <tr>\n",
       "      <th>40-44</th>\n",
       "      <td>22</td>\n",
       "    </tr>\n",
       "    <tr>\n",
       "      <th>35-39</th>\n",
       "      <td>19</td>\n",
       "    </tr>\n",
       "    <tr>\n",
       "      <th>0-4</th>\n",
       "      <td>8</td>\n",
       "    </tr>\n",
       "    <tr>\n",
       "      <th>50-54</th>\n",
       "      <td>8</td>\n",
       "    </tr>\n",
       "    <tr>\n",
       "      <th>5-9</th>\n",
       "      <td>4</td>\n",
       "    </tr>\n",
       "    <tr>\n",
       "      <th>45-49</th>\n",
       "      <td>3</td>\n",
       "    </tr>\n",
       "  </tbody>\n",
       "</table>\n",
       "</div>"
      ],
      "text/plain": [
       "       tumor-size\n",
       "30-34          60\n",
       "25-29          54\n",
       "20-24          50\n",
       "15-19          30\n",
       "10-14          28\n",
       "40-44          22\n",
       "35-39          19\n",
       "0-4             8\n",
       "50-54           8\n",
       "5-9             4\n",
       "45-49           3"
      ]
     },
     "execution_count": 4,
     "metadata": {},
     "output_type": "execute_result"
    }
   ],
   "source": [
    "tmp = df[['tumor-size']].apply(pd.value_counts)\n",
    "tmp"
   ]
  },
  {
   "cell_type": "code",
   "execution_count": 5,
   "id": "851aa372",
   "metadata": {},
   "outputs": [],
   "source": [
    "vals = tmp['tumor-size'].to_list()\n",
    "inds = tmp.index"
   ]
  },
  {
   "cell_type": "code",
   "execution_count": 6,
   "id": "2d693fe2",
   "metadata": {},
   "outputs": [
    {
     "data": {
      "text/plain": [
       "([<matplotlib.patches.Wedge at 0x23d71704eb0>,\n",
       "  <matplotlib.patches.Wedge at 0x23d717143d0>,\n",
       "  <matplotlib.patches.Wedge at 0x23d71714850>,\n",
       "  <matplotlib.patches.Wedge at 0x23d71714cd0>,\n",
       "  <matplotlib.patches.Wedge at 0x23d71db2190>,\n",
       "  <matplotlib.patches.Wedge at 0x23d71db2610>,\n",
       "  <matplotlib.patches.Wedge at 0x23d71db2a90>,\n",
       "  <matplotlib.patches.Wedge at 0x23d71db2f10>,\n",
       "  <matplotlib.patches.Wedge at 0x23d71dc33d0>,\n",
       "  <matplotlib.patches.Wedge at 0x23d71dc3850>,\n",
       "  <matplotlib.patches.Wedge at 0x23d716db910>],\n",
       " [Text(0.8696146611456995, 0.6736247776918916, '30-34'),\n",
       "  Text(-0.36737738630868066, 1.0368383943648125, '25-29'),\n",
       "  Text(-1.0957554580037052, 0.09654002410964323, '20-24'),\n",
       "  Text(-0.7735337350445108, -0.7820777204012966, '15-19'),\n",
       "  Text(-0.15654630124901567, -1.0888035890670331, '10-14'),\n",
       "  Text(0.43486578274628557, -1.0103918799141551, '40-44'),\n",
       "  Text(0.83132455018343, -0.7203467861122987, '35-39'),\n",
       "  Text(1.005554215159562, -0.44593802301983365, '0-4'),\n",
       "  Text(1.0680360029605007, -0.263247215332199, '50-54'),\n",
       "  Text(1.0933703052139108, -0.12058762654783224, '5-9'),\n",
       "  Text(1.0994027814927017, -0.03624257228882787, '45-49')])"
      ]
     },
     "execution_count": 6,
     "metadata": {},
     "output_type": "execute_result"
    },
    {
     "data": {
      "image/png": "[encoded data removed]",
      "text/plain": [
       "<Figure size 432x288 with 1 Axes>"
      ]
     },
     "metadata": {},
     "output_type": "display_data"
    }
   ],
   "source": [
    "plt.pie(vals, labels=inds)"
   ]
  },
  {
   "cell_type": "markdown",
   "id": "7e56b620",
   "metadata": {},
   "source": [
    "#### scatter"
   ]
  },
  {
   "cell_type": "code",
   "execution_count": 7,
   "id": "81af68a5",
   "metadata": {},
   "outputs": [],
   "source": [
    "tmp = df[['tumor-size', 'deg-malig']]\n",
    "tmp = tmp.groupby(tmp.columns.tolist(),as_index=False).size()"
   ]
  },
  {
   "cell_type": "code",
   "execution_count": 8,
   "id": "7cfd07f7",
   "metadata": {},
   "outputs": [
    {
     "data": {
      "text/plain": [
       "Text(0.5, 1.0, 'frequency of tumor size vs. deg of malignancy')"
      ]
     },
     "execution_count": 8,
     "metadata": {},
     "output_type": "execute_result"
    },
    {
     "data": {
      "image/png": "[encoded data removed]",
      "text/plain": [
       "<Figure size 432x288 with 1 Axes>"
      ]
     },
     "metadata": {
      "needs_background": "light"
     },
     "output_type": "display_data"
    }
   ],
   "source": [
    "x = tmp['deg-malig'].to_list()\n",
    "y = tmp['tumor-size'].to_list()\n",
    "s = np.array(tmp['size'].to_list()) * 10\n",
    "plt.scatter(\n",
    "    x=x,\n",
    "    y=y,\n",
    "    s=s,\n",
    ")\n",
    "plt.xlabel('degree of malignancy')\n",
    "plt.ylabel('tumor size')\n",
    "plt.xticks([1, 2, 3])\n",
    "\n",
    "plt.title('frequency of tumor size vs. deg of malignancy')"
   ]
  },
  {
   "cell_type": "markdown",
   "id": "d0a1bd52",
   "metadata": {},
   "source": [
    "#### heat map"
   ]
  },
  {
   "cell_type": "code",
   "execution_count": 9,
   "id": "c2a19aee",
   "metadata": {},
   "outputs": [
    {
     "data": {
      "text/plain": [
       "<AxesSubplot:xlabel='deg-malig', ylabel='tumor-size'>"
      ]
     },
     "execution_count": 9,
     "metadata": {},
     "output_type": "execute_result"
    },
    {
     "data": {
      "image/png": "[encoded data removed]",
      "text/plain": [
       "<Figure size 432x288 with 2 Axes>"
      ]
     },
     "metadata": {
      "needs_background": "light"
     },
     "output_type": "display_data"
    }
   ],
   "source": [
    "tmp = tmp.pivot('tumor-size','deg-malig','size')\n",
    "sns.heatmap(tmp)"
   ]
  },
  {
   "cell_type": "markdown",
   "id": "c53dfe06",
   "metadata": {},
   "source": [
    "#### boxplot"
   ]
  },
  {
   "cell_type": "code",
   "execution_count": 10,
   "id": "16f5d25e",
   "metadata": {},
   "outputs": [
    {
     "data": {
      "text/plain": [
       "<AxesSubplot:xlabel='deg-malig', ylabel='tumor-size'>"
      ]
     },
     "execution_count": 10,
     "metadata": {},
     "output_type": "execute_result"
    },
    {
     "data": {
      "image/png": "[encoded data removed]",
      "text/plain": [
       "<Figure size 432x288 with 1 Axes>"
      ]
     },
     "metadata": {
      "needs_background": "light"
     },
     "output_type": "display_data"
    }
   ],
   "source": [
    "sns.boxplot(data=df, x='deg-malig', y='tumor-size')"
   ]
  },
  {
   "cell_type": "code",
   "execution_count": null,
   "id": "89e0009b",
   "metadata": {},
   "outputs": [],
   "source": []
  }
 ],
 "metadata": {
  "kernelspec": {
   "display_name": "Python 3",
   "language": "python",
   "name": "python3"
  },
  "language_info": {
   "codemirror_mode": {
    "name": "ipython",
    "version": 3
   },
   "file_extension": ".py",
   "mimetype": "text/x-python",
   "name": "python",
   "nbconvert_exporter": "python",
   "pygments_lexer": "ipython3",
   "version": "3.8.8"
  }
 },
 "nbformat": 4,
 "nbformat_minor": 5
}
